{
 "cells": [
  {
   "cell_type": "code",
   "execution_count": 1,
   "metadata": {},
   "outputs": [],
   "source": [
    "from pyspark.sql import SparkSession, Row, functions as F, Window\n",
    "from pyspark.ml.classification import LogisticRegression\n",
    "from pyspark.ml.feature import VectorAssembler, StandardScaler, StringIndexer, Tokenizer, HashingTF, IDF\n",
    "from pyspark.ml.evaluation import BinaryClassificationEvaluator, RegressionEvaluator\n",
    "from pyspark.ml.regression import LinearRegression, LinearRegressionModel\n",
    "from pyspark.ml.clustering import KMeans\n",
    "from pyspark.ml import Pipeline\n",
    "from pyspark.ml.tuning import ParamGridBuilder, CrossValidator\n",
    "from pyspark.sql.types import FloatType, ArrayType, IntegerType\n",
    "from pyspark.sql.functions import udf, explode, array\n",
    "import os\n",
    "\n",
    "# Sedona imports for SparkSession config\n",
    "try:\n",
    "    from sedona.utils import SedonaKryoRegistrator, KryoSerializer\n",
    "    sedona_serializer_config = True\n",
    "except ImportError:\n",
    "    sedona_serializer_config = False"
   ]
  },
  {
   "cell_type": "code",
   "execution_count": 2,
   "metadata": {},
   "outputs": [
    {
     "name": "stderr",
     "output_type": "stream",
     "text": [
      "Picked up JAVA_TOOL_OPTIONS: \n",
      "Picked up JAVA_TOOL_OPTIONS: \n",
      "Setting default log level to \"WARN\".\n",
      "To adjust logging level use sc.setLogLevel(newLevel). For SparkR, use setLogLevel(newLevel).\n",
      "25/07/18 08:03:53 WARN NativeCodeLoader: Unable to load native-hadoop library for your platform... using builtin-java classes where applicable\n"
     ]
    },
    {
     "name": "stdout",
     "output_type": "stream",
     "text": [
      "✅ Spark version: 3.5.1\n",
      "✅ Master URL: spark://localhost:7077\n"
     ]
    }
   ],
   "source": [
    "# 1. Spark Session Setup\n",
    "spark = (\n",
    "    SparkSession.builder\n",
    "    .appName(\"Local Spark Full Demo\")\n",
    "    .master(\"spark://localhost:7077\")\n",
    "    .config(\"spark.eventLog.gcMetrics.youngGenerationGarbageCollectors\", \"G1 Young Generation\")\n",
    "    .config(\"spark.eventLog.gcMetrics.oldGenerationGarbageCollectors\", \"G1 Old Generation\")\n",
    "    .getOrCreate()\n",
    ")\n",
    "spark.sparkContext.setLogLevel(\"ERROR\")\n",
    "print(\"✅ Spark version:\", spark.version)\n",
    "print(\"✅ Master URL:\", spark.sparkContext.master)"
   ]
  },
  {
   "cell_type": "code",
   "execution_count": 3,
   "metadata": {},
   "outputs": [
    {
     "name": "stdout",
     "output_type": "stream",
     "text": [
      "\n",
      "Original DataFrame:\n"
     ]
    },
    {
     "name": "stderr",
     "output_type": "stream",
     "text": [
      "                                                                                "
     ]
    },
    {
     "name": "stdout",
     "output_type": "stream",
     "text": [
      "+-------+---+------+-----+\n",
      "|   name|age|income|label|\n",
      "+-------+---+------+-----+\n",
      "|  Alice| 34| 70000|    1|\n",
      "|    Bob| 45| 48000|    0|\n",
      "|  Cathy| 29| 62000|    1|\n",
      "|  David| 41| 54000|    0|\n",
      "|    Eve| 36| 71000|    1|\n",
      "|  Frank| 38| 50000|    0|\n",
      "|  Grace| 32| 68000|    1|\n",
      "|  Heidi| 40| 52000|    0|\n",
      "|   Ivan| 37| 69000|    1|\n",
      "|   Judy| 43| 51000|    0|\n",
      "|   Karl| 35| 72000|    1|\n",
      "|   Liam| 39| 53000|    0|\n",
      "|Mallory| 33| 66000|    1|\n",
      "|   Niaj| 44| 55000|    0|\n",
      "| Olivia| 31| 73000|    1|\n",
      "|  Peggy| 42| 56000|    0|\n",
      "+-------+---+------+-----+\n",
      "\n"
     ]
    }
   ],
   "source": [
    "# 2. DataFrame Creation and Basic Operations\n",
    "# Expanded and balanced demo data for ML pipeline and cross-validation\n",
    "data = [\n",
    "    Row(name=\"Alice\", age=34, income=70000, label=1),\n",
    "    Row(name=\"Bob\", age=45, income=48000, label=0),\n",
    "    Row(name=\"Cathy\", age=29, income=62000, label=1),\n",
    "    Row(name=\"David\", age=41, income=54000, label=0),\n",
    "    Row(name=\"Eve\", age=36, income=71000, label=1),\n",
    "    Row(name=\"Frank\", age=38, income=50000, label=0),\n",
    "    Row(name=\"Grace\", age=32, income=68000, label=1),\n",
    "    Row(name=\"Heidi\", age=40, income=52000, label=0),\n",
    "    Row(name=\"Ivan\", age=37, income=69000, label=1),\n",
    "    Row(name=\"Judy\", age=43, income=51000, label=0),\n",
    "    Row(name=\"Karl\", age=35, income=72000, label=1),\n",
    "    Row(name=\"Liam\", age=39, income=53000, label=0),\n",
    "    Row(name=\"Mallory\", age=33, income=66000, label=1),\n",
    "    Row(name=\"Niaj\", age=44, income=55000, label=0),\n",
    "    Row(name=\"Olivia\", age=31, income=73000, label=1),\n",
    "    Row(name=\"Peggy\", age=42, income=56000, label=0)\n",
    "]\n",
    "df = spark.createDataFrame(data)\n",
    "print(\"\\nOriginal DataFrame:\")\n",
    "df.show()"
   ]
  },
  {
   "cell_type": "code",
   "execution_count": 4,
   "metadata": {},
   "outputs": [
    {
     "name": "stdout",
     "output_type": "stream",
     "text": [
      "\n",
      "Wrote DataFrame to CSV: demo_people.csv\n",
      "Read DataFrame from CSV:\n",
      "+-------+---+------+-----+\n",
      "|   name|age|income|label|\n",
      "+-------+---+------+-----+\n",
      "| Olivia| 31| 73000|    1|\n",
      "|  Peggy| 42| 56000|    0|\n",
      "|Mallory| 33| 66000|    1|\n",
      "|   Niaj| 44| 55000|    0|\n",
      "|  Grace| 32| 68000|    1|\n",
      "|  Heidi| 40| 52000|    0|\n",
      "|  Cathy| 29| 62000|    1|\n",
      "|  David| 41| 54000|    0|\n",
      "|   Karl| 35| 72000|    1|\n",
      "|   Liam| 39| 53000|    0|\n",
      "|   Ivan| 37| 69000|    1|\n",
      "|   Judy| 43| 51000|    0|\n",
      "|    Eve| 36| 71000|    1|\n",
      "|  Frank| 38| 50000|    0|\n",
      "|  Alice| 34| 70000|    1|\n",
      "|    Bob| 45| 48000|    0|\n",
      "+-------+---+------+-----+\n",
      "\n"
     ]
    }
   ],
   "source": [
    "# 3. Reading and Writing CSV Files\n",
    "csv_path = \"demo_people.csv\"\n",
    "df.write.mode(\"overwrite\").csv(csv_path, header=True)\n",
    "print(f\"\\nWrote DataFrame to CSV: {csv_path}\")\n",
    "df_csv = spark.read.csv(csv_path, header=True, inferSchema=True)\n",
    "print(\"Read DataFrame from CSV:\")\n",
    "df_csv.show()"
   ]
  },
  {
   "cell_type": "code",
   "execution_count": 5,
   "metadata": {},
   "outputs": [
    {
     "name": "stdout",
     "output_type": "stream",
     "text": [
      "\n",
      "DataFrame with age_category column:\n"
     ]
    },
    {
     "name": "stderr",
     "output_type": "stream",
     "text": [
      "                                                                                "
     ]
    },
    {
     "name": "stdout",
     "output_type": "stream",
     "text": [
      "+-------+---+------+-----+------------+\n",
      "|   name|age|income|label|age_category|\n",
      "+-------+---+------+-----+------------+\n",
      "|  Alice| 34| 70000|    1|       young|\n",
      "|    Bob| 45| 48000|    0|      senior|\n",
      "|  Cathy| 29| 62000|    1|       young|\n",
      "|  David| 41| 54000|    0|      senior|\n",
      "|    Eve| 36| 71000|    1|      senior|\n",
      "|  Frank| 38| 50000|    0|      senior|\n",
      "|  Grace| 32| 68000|    1|       young|\n",
      "|  Heidi| 40| 52000|    0|      senior|\n",
      "|   Ivan| 37| 69000|    1|      senior|\n",
      "|   Judy| 43| 51000|    0|      senior|\n",
      "|   Karl| 35| 72000|    1|      senior|\n",
      "|   Liam| 39| 53000|    0|      senior|\n",
      "|Mallory| 33| 66000|    1|       young|\n",
      "|   Niaj| 44| 55000|    0|      senior|\n",
      "| Olivia| 31| 73000|    1|       young|\n",
      "|  Peggy| 42| 56000|    0|      senior|\n",
      "+-------+---+------+-----+------------+\n",
      "\n"
     ]
    }
   ],
   "source": [
    "# 4. DataFrame Transformations (withColumn, UDF, map)\n",
    "def age_category(age):\n",
    "    return \"young\" if age < 35 else \"senior\"\n",
    "age_category_udf = udf(age_category)\n",
    "df = df.withColumn(\"age_category\", age_category_udf(df.age))\n",
    "print(\"\\nDataFrame with age_category column:\")\n",
    "df.show()"
   ]
  },
  {
   "cell_type": "code",
   "execution_count": 6,
   "metadata": {},
   "outputs": [
    {
     "name": "stdout",
     "output_type": "stream",
     "text": [
      "\n",
      "DataFrame with missing values:\n",
      "+-------+----+------+-----+------------+\n",
      "|   name| age|income|label|age_category|\n",
      "+-------+----+------+-----+------------+\n",
      "|  Alice|  34| 70000|    1|       young|\n",
      "|    Bob|  45| 48000|    0|      senior|\n",
      "|  Cathy|  29| 62000|    1|       young|\n",
      "|  David|  41| 54000|    0|      senior|\n",
      "|    Eve|  36| 71000|    1|      senior|\n",
      "|  Frank|  38| 50000|    0|      senior|\n",
      "|  Grace|  32| 68000|    1|       young|\n",
      "|  Heidi|  40| 52000|    0|      senior|\n",
      "|   Ivan|  37| 69000|    1|      senior|\n",
      "|   Judy|  43| 51000|    0|      senior|\n",
      "|   Karl|  35| 72000|    1|      senior|\n",
      "|   Liam|  39| 53000|    0|      senior|\n",
      "|Mallory|  33| 66000|    1|       young|\n",
      "|   Niaj|  44| 55000|    0|      senior|\n",
      "| Olivia|  31| 73000|    1|       young|\n",
      "|  Peggy|  42| 56000|    0|      senior|\n",
      "|    Eve|NULL| 50000|    1|        NULL|\n",
      "|  Frank|  38|  NULL|    0|        NULL|\n",
      "+-------+----+------+-----+------------+\n",
      "\n",
      "\n",
      "Fill missing ages with 0:\n",
      "+-------+---+------+-----+------------+\n",
      "|   name|age|income|label|age_category|\n",
      "+-------+---+------+-----+------------+\n",
      "|  Alice| 34| 70000|    1|       young|\n",
      "|    Bob| 45| 48000|    0|      senior|\n",
      "|  Cathy| 29| 62000|    1|       young|\n",
      "|  David| 41| 54000|    0|      senior|\n",
      "|    Eve| 36| 71000|    1|      senior|\n",
      "|  Frank| 38| 50000|    0|      senior|\n",
      "|  Grace| 32| 68000|    1|       young|\n",
      "|  Heidi| 40| 52000|    0|      senior|\n",
      "|   Ivan| 37| 69000|    1|      senior|\n",
      "|   Judy| 43| 51000|    0|      senior|\n",
      "|   Karl| 35| 72000|    1|      senior|\n",
      "|   Liam| 39| 53000|    0|      senior|\n",
      "|Mallory| 33| 66000|    1|       young|\n",
      "|   Niaj| 44| 55000|    0|      senior|\n",
      "| Olivia| 31| 73000|    1|       young|\n",
      "|  Peggy| 42| 56000|    0|      senior|\n",
      "|    Eve|  0| 50000|    1|        NULL|\n",
      "|  Frank| 38|     0|    0|        NULL|\n",
      "+-------+---+------+-----+------------+\n",
      "\n"
     ]
    }
   ],
   "source": [
    "# 5. Handling Missing Data\n",
    "data_with_missing = [Row(name=\"Eve\", age=None, income=50000, label=1),\n",
    "                     Row(name=\"Frank\", age=38, income=None, label=0)]\n",
    "df_missing = spark.createDataFrame(data_with_missing)\n",
    "df_combined = df.unionByName(df_missing, allowMissingColumns=True)\n",
    "print(\"\\nDataFrame with missing values:\")\n",
    "df_combined.show()\n",
    "# Update: Fill nulls in both 'age' and 'income' for ML steps\n",
    "df_filled = df_combined.fillna({\"age\": 0, \"income\": 0})\n",
    "print(\"\\nFill missing ages with 0:\")\n",
    "df_filled.show()"
   ]
  },
  {
   "cell_type": "code",
   "execution_count": 7,
   "metadata": {},
   "outputs": [
    {
     "name": "stdout",
     "output_type": "stream",
     "text": [
      "\n",
      "SQL: People with income > 50000:\n",
      "+-------+---+\n",
      "|   name|age|\n",
      "+-------+---+\n",
      "|  Alice| 34|\n",
      "|  Cathy| 29|\n",
      "|  David| 41|\n",
      "|    Eve| 36|\n",
      "|  Grace| 32|\n",
      "|  Heidi| 40|\n",
      "|   Ivan| 37|\n",
      "|   Judy| 43|\n",
      "|   Karl| 35|\n",
      "|   Liam| 39|\n",
      "|Mallory| 33|\n",
      "|   Niaj| 44|\n",
      "| Olivia| 31|\n",
      "|  Peggy| 42|\n",
      "+-------+---+\n",
      "\n",
      "\n",
      "SQL: Group by age_category and count:\n",
      "+------------+-----+\n",
      "|age_category|count|\n",
      "+------------+-----+\n",
      "|      senior|   11|\n",
      "|       young|    5|\n",
      "+------------+-----+\n",
      "\n",
      "\n",
      "SQL: Join example:\n",
      "+-------+---+------+\n",
      "|   name|age|income|\n",
      "+-------+---+------+\n",
      "|  Alice| 34| 70000|\n",
      "|    Bob| 45| 48000|\n",
      "|  Cathy| 29| 62000|\n",
      "|  David| 41| 54000|\n",
      "|    Eve| 36| 71000|\n",
      "|    Eve| 36| 50000|\n",
      "|  Frank| 38| 50000|\n",
      "|  Frank| 38|     0|\n",
      "|  Grace| 32| 68000|\n",
      "|  Heidi| 40| 52000|\n",
      "|   Ivan| 37| 69000|\n",
      "|   Judy| 43| 51000|\n",
      "|   Karl| 35| 72000|\n",
      "|   Liam| 39| 53000|\n",
      "|Mallory| 33| 66000|\n",
      "|   Niaj| 44| 55000|\n",
      "| Olivia| 31| 73000|\n",
      "|  Peggy| 42| 56000|\n",
      "+-------+---+------+\n",
      "\n"
     ]
    }
   ],
   "source": [
    "# 6. SQL: Temp Views, Aggregation, Group By, Join\n",
    "df.createOrReplaceTempView(\"people\")\n",
    "df_filled.createOrReplaceTempView(\"people_filled\")\n",
    "print(\"\\nSQL: People with income > 50000:\")\n",
    "sql_result = spark.sql(\"SELECT name, age FROM people WHERE income > 50000\")\n",
    "sql_result.show()\n",
    "print(\"\\nSQL: Group by age_category and count:\")\n",
    "sql_group = spark.sql(\"SELECT age_category, COUNT(*) as count FROM people GROUP BY age_category\")\n",
    "sql_group.show()\n",
    "print(\"\\nSQL: Join example:\")\n",
    "sql_join = spark.sql(\"SELECT p.name, p.age, f.income FROM people p JOIN people_filled f ON p.name = f.name\")\n",
    "sql_join.show()\n"
   ]
  },
  {
   "cell_type": "code",
   "execution_count": 8,
   "metadata": {},
   "outputs": [
    {
     "name": "stdout",
     "output_type": "stream",
     "text": [
      "\n",
      "Scaled features:\n",
      "+-------+------------------------------------------+\n",
      "|name   |features                                  |\n",
      "+-------+------------------------------------------+\n",
      "|Alice  |[-0.13961854577250066,0.7990042152577324] |\n",
      "|Bob    |[0.966160336745707,-0.5193527399175258]   |\n",
      "|Cathy  |[-0.6422453105535042,0.31960168610309303] |\n",
      "|David  |[0.5640589249209043,-0.1598008430515463]  |\n",
      "|Eve    |[0.06143216013990074,0.8589295314020623]  |\n",
      "|Frank  |[0.26248286605230214,-0.39950210762886595]|\n",
      "|Grace  |[-0.34066925168490203,0.6791535829690726] |\n",
      "|Heidi  |[0.4635335719647036,-0.2796514753402061]  |\n",
      "|Ivan   |[0.16195751309610146,0.7390788991134025]  |\n",
      "|Judy   |[0.7651096308333056,-0.33957679148453607] |\n",
      "|Karl   |[-0.03909319281629996,0.9188548475463922] |\n",
      "|Liam   |[0.36300821900850283,-0.21972615919587624]|\n",
      "|Mallory|[-0.24014389872870134,0.5593029506804127] |\n",
      "|Niaj   |[0.8656349837895063,-0.09987552690721639] |\n",
      "|Olivia |[-0.44119460464110277,0.9787801636907222] |\n",
      "|Peggy  |[0.664584277877105,-0.03995021076288647]  |\n",
      "|Eve    |[-3.5574805462833243,-0.39950210762886595]|\n",
      "|Frank  |[0.26248286605230214,-3.395767914845362]  |\n",
      "+-------+------------------------------------------+\n",
      "\n"
     ]
    }
   ],
   "source": [
    "# 7. MLlib: Feature Scaling (StandardScaler)\n",
    "# Use handleInvalid='skip' for VectorAssembler\n",
    "assembler = VectorAssembler(inputCols=[\"age\", \"income\"], outputCol=\"features_raw\", handleInvalid=\"skip\")\n",
    "df_ml = assembler.transform(df_filled)\n",
    "scaler = StandardScaler(inputCol=\"features_raw\", outputCol=\"features\", withMean=True, withStd=True)\n",
    "scaler_model = scaler.fit(df_ml)\n",
    "df_scaled = scaler_model.transform(df_ml)\n",
    "print(\"\\nScaled features:\")\n",
    "df_scaled.select(\"name\", \"features\").show(truncate=False)"
   ]
  },
  {
   "cell_type": "code",
   "execution_count": 9,
   "metadata": {},
   "outputs": [
    {
     "name": "stdout",
     "output_type": "stream",
     "text": [
      "\n",
      "Logistic Regression Predictions (test set):\n",
      "+-----+---+------+-------------------------------------------+----------+\n",
      "|name |age|income|probability                                |prediction|\n",
      "+-----+---+------+-------------------------------------------+----------+\n",
      "|Cathy|29 |62000 |[6.669439236875415E-20,1.0]                |1.0       |\n",
      "|Eve  |36 |71000 |[7.245762563685816E-11,0.9999999999275424] |1.0       |\n",
      "|Frank|38 |50000 |[0.9999389052939822,6.109470601778355E-5]  |0.0       |\n",
      "|Grace|32 |68000 |[4.231174785711516E-17,1.0]                |1.0       |\n",
      "|Liam |39 |53000 |[0.9999775445377301,2.2455462269865833E-5] |0.0       |\n",
      "|Niaj |44 |55000 |[0.9999999999999516,4.8405723873656825E-14]|0.0       |\n",
      "|Eve  |0  |50000 |[5.766639194582275E-70,1.0]                |1.0       |\n",
      "+-----+---+------+-------------------------------------------+----------+\n",
      "\n",
      "AUC on test set: 1.000\n"
     ]
    }
   ],
   "source": [
    "# 8. MLlib: Train/Test Split, Model Training, Evaluation\n",
    "train, test = df_scaled.randomSplit([0.7, 0.3], seed=42)\n",
    "lr = LogisticRegression(featuresCol=\"features\", labelCol=\"label\")\n",
    "model = lr.fit(train)\n",
    "predictions = model.transform(test)\n",
    "print(\"\\nLogistic Regression Predictions (test set):\")\n",
    "predictions.select(\"name\", \"age\", \"income\", \"probability\", \"prediction\").show(truncate=False)\n",
    "evaluator = BinaryClassificationEvaluator(labelCol=\"label\")\n",
    "auc = evaluator.evaluate(predictions)\n",
    "print(f\"AUC on test set: {auc:.3f}\")"
   ]
  },
  {
   "cell_type": "code",
   "execution_count": 10,
   "metadata": {},
   "outputs": [
    {
     "name": "stdout",
     "output_type": "stream",
     "text": [
      "\n",
      "Window Functions: Ranking and Moving Average\n",
      "+-------+---+------+-----+------------+----+------------------+\n",
      "|   name|age|income|label|age_category|rank| moving_avg_income|\n",
      "+-------+---+------+-----+------------+----+------------------+\n",
      "| Olivia| 31| 73000|    1|       young|   1|           72500.0|\n",
      "|   Karl| 35| 72000|    1|      senior|   2|           72000.0|\n",
      "|    Eve| 36| 71000|    1|      senior|   3|           71000.0|\n",
      "|  Alice| 34| 70000|    1|       young|   4|           70000.0|\n",
      "|   Ivan| 37| 69000|    1|      senior|   5|           69000.0|\n",
      "|  Grace| 32| 68000|    1|       young|   6| 67666.66666666667|\n",
      "|Mallory| 33| 66000|    1|       young|   7|65333.333333333336|\n",
      "|  Cathy| 29| 62000|    1|       young|   8|61333.333333333336|\n",
      "|  Peggy| 42| 56000|    0|      senior|   9|57666.666666666664|\n",
      "|   Niaj| 44| 55000|    0|      senior|  10|           55000.0|\n",
      "|  David| 41| 54000|    0|      senior|  11|           54000.0|\n",
      "|   Liam| 39| 53000|    0|      senior|  12|           53000.0|\n",
      "|  Heidi| 40| 52000|    0|      senior|  13|           52000.0|\n",
      "|   Judy| 43| 51000|    0|      senior|  14|           51000.0|\n",
      "|  Frank| 38| 50000|    0|      senior|  15|49666.666666666664|\n",
      "|    Bob| 45| 48000|    0|      senior|  16|           49000.0|\n",
      "+-------+---+------+-----+------------+----+------------------+\n",
      "\n"
     ]
    }
   ],
   "source": [
    "# 9. ADVANCED: Window Functions (Ranking, Moving Average)\n",
    "print(\"\\nWindow Functions: Ranking and Moving Average\")\n",
    "window_spec = Window.orderBy(F.col(\"income\").desc())\n",
    "df_ranked = df.withColumn(\"rank\", F.rank().over(window_spec))\n",
    "df_ranked = df_ranked.withColumn(\"moving_avg_income\", F.avg(\"income\").over(window_spec.rowsBetween(-1, 1)))\n",
    "df_ranked.show()\n"
   ]
  },
  {
   "cell_type": "code",
   "execution_count": 11,
   "metadata": {},
   "outputs": [
    {
     "name": "stdout",
     "output_type": "stream",
     "text": [
      "\n",
      "Explode and Array Operations\n",
      "+-----+-----+\n",
      "| name|score|\n",
      "+-----+-----+\n",
      "|Alice|    1|\n",
      "|Alice|    2|\n",
      "|Alice|    3|\n",
      "|  Bob|    1|\n",
      "|  Bob|    2|\n",
      "|  Bob|    3|\n",
      "|Cathy|    1|\n",
      "|Cathy|    2|\n",
      "|Cathy|    3|\n",
      "|David|    1|\n",
      "|David|    2|\n",
      "|David|    3|\n",
      "|  Eve|    1|\n",
      "|  Eve|    2|\n",
      "|  Eve|    3|\n",
      "|Frank|    1|\n",
      "|Frank|    2|\n",
      "|Frank|    3|\n",
      "|Grace|    1|\n",
      "|Grace|    2|\n",
      "+-----+-----+\n",
      "only showing top 20 rows\n",
      "\n"
     ]
    }
   ],
   "source": [
    "# 10. ADVANCED: Explode and Array Operations\n",
    "print(\"\\nExplode and Array Operations\")\n",
    "df_array = df.withColumn(\"scores\", array(F.lit(1), F.lit(2), F.lit(3)))\n",
    "df_exploded = df_array.select(\"name\", explode(\"scores\").alias(\"score\"))\n",
    "df_exploded.show()\n"
   ]
  },
  {
   "cell_type": "code",
   "execution_count": 12,
   "metadata": {},
   "outputs": [
    {
     "name": "stdout",
     "output_type": "stream",
     "text": [
      "\n",
      "Pivot Table Example\n",
      "+------------+-------+-----------------+\n",
      "|age_category|      0|                1|\n",
      "+------------+-------+-----------------+\n",
      "|      senior|52375.0|70666.66666666667|\n",
      "|       young|   NULL|          67800.0|\n",
      "+------------+-------+-----------------+\n",
      "\n"
     ]
    }
   ],
   "source": [
    "# 11. ADVANCED: Pivot Table\n",
    "print(\"\\nPivot Table Example\")\n",
    "df_pivot = df.groupBy(\"age_category\").pivot(\"label\").agg(F.avg(\"income\"))\n",
    "df_pivot.show()"
   ]
  },
  {
   "cell_type": "code",
   "execution_count": 13,
   "metadata": {},
   "outputs": [
    {
     "name": "stdout",
     "output_type": "stream",
     "text": [
      "\n",
      "Broadcast Join Example\n",
      "+-------+---+------+-----+------------+-------+\n",
      "|   name|age|income|label|age_category|country|\n",
      "+-------+---+------+-----+------------+-------+\n",
      "|  Alice| 34| 70000|    1|       young|     US|\n",
      "|    Bob| 45| 48000|    0|      senior|     UK|\n",
      "|  Cathy| 29| 62000|    1|       young|   NULL|\n",
      "|  David| 41| 54000|    0|      senior|   NULL|\n",
      "|    Eve| 36| 71000|    1|      senior|   NULL|\n",
      "|  Frank| 38| 50000|    0|      senior|   NULL|\n",
      "|  Grace| 32| 68000|    1|       young|   NULL|\n",
      "|  Heidi| 40| 52000|    0|      senior|   NULL|\n",
      "|   Ivan| 37| 69000|    1|      senior|   NULL|\n",
      "|   Judy| 43| 51000|    0|      senior|   NULL|\n",
      "|   Karl| 35| 72000|    1|      senior|   NULL|\n",
      "|   Liam| 39| 53000|    0|      senior|   NULL|\n",
      "|Mallory| 33| 66000|    1|       young|   NULL|\n",
      "|   Niaj| 44| 55000|    0|      senior|   NULL|\n",
      "| Olivia| 31| 73000|    1|       young|   NULL|\n",
      "|  Peggy| 42| 56000|    0|      senior|   NULL|\n",
      "+-------+---+------+-----+------------+-------+\n",
      "\n"
     ]
    }
   ],
   "source": [
    "# 12. ADVANCED: Broadcast Join\n",
    "print(\"\\nBroadcast Join Example\")\n",
    "small_df = spark.createDataFrame([Row(name=\"Alice\", country=\"US\"), Row(name=\"Bob\", country=\"UK\")])\n",
    "broadcast_joined = df.join(F.broadcast(small_df), on=\"name\", how=\"left\")\n",
    "broadcast_joined.show()"
   ]
  },
  {
   "cell_type": "code",
   "execution_count": 14,
   "metadata": {},
   "outputs": [
    {
     "name": "stdout",
     "output_type": "stream",
     "text": [
      "\n",
      "Linear Regression Example\n",
      "+-------+---+------+-----------------+\n",
      "|   name|age|income|       prediction|\n",
      "+-------+---+------+-----------------+\n",
      "|  Alice| 34| 70000|          70000.0|\n",
      "|    Bob| 45| 48000|          48000.0|\n",
      "|  Cathy| 29| 62000|          62000.0|\n",
      "|  David| 41| 54000|          54000.0|\n",
      "|    Eve| 36| 71000|          71000.0|\n",
      "|  Frank| 38| 50000|          50000.0|\n",
      "|  Grace| 32| 68000|          68000.0|\n",
      "|  Heidi| 40| 52000|          52000.0|\n",
      "|   Ivan| 37| 69000|          69000.0|\n",
      "|   Judy| 43| 51000|          51000.0|\n",
      "|   Karl| 35| 72000|          72000.0|\n",
      "|   Liam| 39| 53000|          53000.0|\n",
      "|Mallory| 33| 66000|          66000.0|\n",
      "|   Niaj| 44| 55000|          55000.0|\n",
      "| Olivia| 31| 73000|          73000.0|\n",
      "|  Peggy| 42| 56000|          56000.0|\n",
      "|    Eve|  0| 50000|50000.00000000001|\n",
      "|  Frank| 38|     0|              0.0|\n",
      "+-------+---+------+-----------------+\n",
      "\n",
      "Linear Regression RMSE: 0.00\n"
     ]
    }
   ],
   "source": [
    "# 13. ADVANCED: Linear Regression\n",
    "print(\"\\nLinear Regression Example\")\n",
    "lr_reg = LinearRegression(featuresCol=\"features\", labelCol=\"income\")\n",
    "lr_model = lr_reg.fit(df_scaled)\n",
    "lr_predictions = lr_model.transform(df_scaled)\n",
    "lr_predictions.select(\"name\", \"age\", \"income\", \"prediction\").show()\n",
    "reg_evaluator = RegressionEvaluator(labelCol=\"income\", predictionCol=\"prediction\", metricName=\"rmse\")\n",
    "rmse = reg_evaluator.evaluate(lr_predictions)\n",
    "print(f\"Linear Regression RMSE: {rmse:.2f}\")"
   ]
  },
  {
   "cell_type": "code",
   "execution_count": 15,
   "metadata": {},
   "outputs": [
    {
     "name": "stdout",
     "output_type": "stream",
     "text": [
      "\n",
      "KMeans Clustering Example\n",
      "+-------+---+------+----------+\n",
      "|   name|age|income|prediction|\n",
      "+-------+---+------+----------+\n",
      "|  Alice| 34| 70000|         1|\n",
      "|    Bob| 45| 48000|         0|\n",
      "|  Cathy| 29| 62000|         1|\n",
      "|  David| 41| 54000|         0|\n",
      "|    Eve| 36| 71000|         1|\n",
      "|  Frank| 38| 50000|         0|\n",
      "|  Grace| 32| 68000|         1|\n",
      "|  Heidi| 40| 52000|         0|\n",
      "|   Ivan| 37| 69000|         1|\n",
      "|   Judy| 43| 51000|         0|\n",
      "|   Karl| 35| 72000|         1|\n",
      "|   Liam| 39| 53000|         0|\n",
      "|Mallory| 33| 66000|         1|\n",
      "|   Niaj| 44| 55000|         0|\n",
      "| Olivia| 31| 73000|         1|\n",
      "|  Peggy| 42| 56000|         0|\n",
      "|    Eve|  0| 50000|         1|\n",
      "|  Frank| 38|     0|         0|\n",
      "+-------+---+------+----------+\n",
      "\n"
     ]
    }
   ],
   "source": [
    "# 14. ADVANCED: KMeans Clustering\n",
    "print(\"\\nKMeans Clustering Example\")\n",
    "kmeans = KMeans(featuresCol=\"features\", k=2, seed=1)\n",
    "kmeans_model = kmeans.fit(df_scaled)\n",
    "kmeans_predictions = kmeans_model.transform(df_scaled)\n",
    "kmeans_predictions.select(\"name\", \"age\", \"income\", \"prediction\").show()"
   ]
  },
  {
   "cell_type": "code",
   "execution_count": 16,
   "metadata": {},
   "outputs": [
    {
     "name": "stdout",
     "output_type": "stream",
     "text": [
      "\n",
      "ML Pipeline and Cross-Validation Example\n",
      "Cross-validated predictions:\n",
      "+-------+---+------+-----------------------------------------+----------+\n",
      "|name   |age|income|probability                              |prediction|\n",
      "+-------+---+------+-----------------------------------------+----------+\n",
      "|Alice  |34 |70000 |[0.06672389830440972,0.9332761016955903] |1.0       |\n",
      "|Bob    |45 |48000 |[0.9870154494042499,0.0129845505957501]  |0.0       |\n",
      "|Cathy  |29 |62000 |[0.09021466482879903,0.909785335171201]  |1.0       |\n",
      "|David  |41 |54000 |[0.8988980579963376,0.1011019420036624]  |0.0       |\n",
      "|Eve    |36 |71000 |[0.08771698437571739,0.9122830156242826] |1.0       |\n",
      "|Frank  |38 |50000 |[0.9025588378175352,0.09744116218246479] |0.0       |\n",
      "|Grace  |32 |68000 |[0.06063788203758433,0.9393621179624156] |1.0       |\n",
      "|Heidi  |40 |52000 |[0.9111799894466136,0.0888200105533864]  |0.0       |\n",
      "|Ivan   |37 |69000 |[0.15338648542220926,0.8466135145777908] |1.0       |\n",
      "|Judy   |43 |51000 |[0.9629589090270195,0.03704109097298047] |0.0       |\n",
      "|Karl   |35 |72000 |[0.05834715450930379,0.9416528454906962] |1.0       |\n",
      "|Liam   |39 |53000 |[0.8686114704629656,0.1313885295370344]  |0.0       |\n",
      "|Mallory|33 |66000 |[0.10844441781643666,0.8915555821835633] |1.0       |\n",
      "|Niaj   |44 |55000 |[0.9385766802738054,0.061423319726194636]|0.0       |\n",
      "|Olivia |31 |73000 |[0.018774329378184976,0.981225670621815] |1.0       |\n",
      "|Peggy  |42 |56000 |[0.8851318953969501,0.11486810460304986] |0.0       |\n",
      "|Eve    |0  |50000 |[8.303667067011858E-4,0.9991696332932988]|1.0       |\n",
      "|Frank  |38 |0     |[0.9999934364844743,6.563515525748187E-6]|0.0       |\n",
      "+-------+---+------+-----------------------------------------+----------+\n",
      "\n"
     ]
    }
   ],
   "source": [
    "# 15. ADVANCED: ML Pipeline and Cross-Validation\n",
    "print(\"\\nML Pipeline and Cross-Validation Example\")\n",
    "indexer = StringIndexer(inputCol=\"age_category\", outputCol=\"age_cat_index\")\n",
    "assembler = VectorAssembler(inputCols=[\"age\", \"income\"], outputCol=\"features_raw\", handleInvalid=\"skip\")\n",
    "scaler = StandardScaler(inputCol=\"features_raw\", outputCol=\"features\", withMean=True, withStd=True)\n",
    "lr = LogisticRegression(featuresCol=\"features\", labelCol=\"label\")\n",
    "pipeline = Pipeline(stages=[indexer, assembler, scaler, lr])\n",
    "paramGrid = ParamGridBuilder() \\\n",
    "    .addGrid(lr.regParam, [0.01, 0.1]) \\\n",
    "    .addGrid(lr.elasticNetParam, [0.0, 0.5]) \\\n",
    "    .build()\n",
    "crossval = CrossValidator(estimator=pipeline,\n",
    "                          estimatorParamMaps=paramGrid,\n",
    "                          evaluator=BinaryClassificationEvaluator(labelCol=\"label\"),\n",
    "                          numFolds=2)\n",
    "cv_model = crossval.fit(df_filled)\n",
    "cv_predictions = cv_model.transform(df_filled)\n",
    "print(\"Cross-validated predictions:\")\n",
    "cv_predictions.select(\"name\", \"age\", \"income\", \"probability\", \"prediction\").show(truncate=False)\n",
    "\n"
   ]
  },
  {
   "cell_type": "code",
   "execution_count": 17,
   "metadata": {},
   "outputs": [
    {
     "name": "stdout",
     "output_type": "stream",
     "text": [
      "\n",
      "Reading and Writing JSON/Parquet\n"
     ]
    },
    {
     "name": "stderr",
     "output_type": "stream",
     "text": [
      "                                                                                "
     ]
    },
    {
     "name": "stdout",
     "output_type": "stream",
     "text": [
      "Read from JSON:\n",
      "+---+------------+------+-----+-------+\n",
      "|age|age_category|income|label|   name|\n",
      "+---+------------+------+-----+-------+\n",
      "| 33|       young| 66000|    1|Mallory|\n",
      "| 44|      senior| 55000|    0|   Niaj|\n",
      "| 31|       young| 73000|    1| Olivia|\n",
      "| 42|      senior| 56000|    0|  Peggy|\n",
      "| 29|       young| 62000|    1|  Cathy|\n",
      "| 41|      senior| 54000|    0|  David|\n",
      "| 32|       young| 68000|    1|  Grace|\n",
      "| 40|      senior| 52000|    0|  Heidi|\n",
      "| 37|      senior| 69000|    1|   Ivan|\n",
      "| 43|      senior| 51000|    0|   Judy|\n",
      "| 36|      senior| 71000|    1|    Eve|\n",
      "| 38|      senior| 50000|    0|  Frank|\n",
      "| 35|      senior| 72000|    1|   Karl|\n",
      "| 39|      senior| 53000|    0|   Liam|\n",
      "| 34|       young| 70000|    1|  Alice|\n",
      "| 45|      senior| 48000|    0|    Bob|\n",
      "+---+------------+------+-----+-------+\n",
      "\n",
      "Read from Parquet:\n",
      "+-------+---+------+-----+------------+\n",
      "|   name|age|income|label|age_category|\n",
      "+-------+---+------+-----+------------+\n",
      "|   Ivan| 37| 69000|    1|      senior|\n",
      "|   Judy| 43| 51000|    0|      senior|\n",
      "|   Karl| 35| 72000|    1|      senior|\n",
      "|   Liam| 39| 53000|    0|      senior|\n",
      "|    Eve| 36| 71000|    1|      senior|\n",
      "|  Frank| 38| 50000|    0|      senior|\n",
      "|Mallory| 33| 66000|    1|       young|\n",
      "|   Niaj| 44| 55000|    0|      senior|\n",
      "| Olivia| 31| 73000|    1|       young|\n",
      "|  Peggy| 42| 56000|    0|      senior|\n",
      "|  Grace| 32| 68000|    1|       young|\n",
      "|  Heidi| 40| 52000|    0|      senior|\n",
      "|  Cathy| 29| 62000|    1|       young|\n",
      "|  David| 41| 54000|    0|      senior|\n",
      "|  Alice| 34| 70000|    1|       young|\n",
      "|    Bob| 45| 48000|    0|      senior|\n",
      "+-------+---+------+-----+------------+\n",
      "\n"
     ]
    }
   ],
   "source": [
    "# 16. ADVANCED: Reading JSON and Parquet\n",
    "print(\"\\nReading and Writing JSON/Parquet\")\n",
    "json_path = \"demo_people.json\"\n",
    "parquet_path = \"demo_people.parquet\"\n",
    "df.write.mode(\"overwrite\").json(json_path)\n",
    "df.write.mode(\"overwrite\").parquet(parquet_path)\n",
    "df_json = spark.read.json(json_path)\n",
    "df_parquet = spark.read.parquet(parquet_path)\n",
    "print(\"Read from JSON:\")\n",
    "df_json.show()\n",
    "print(\"Read from Parquet:\")\n",
    "df_parquet.show()"
   ]
  },
  {
   "cell_type": "code",
   "execution_count": 18,
   "metadata": {},
   "outputs": [
    {
     "name": "stdout",
     "output_type": "stream",
     "text": [
      "\n",
      "Saving and Loading Models\n",
      "Loaded model coefficients: [-1.6210930689248104e-12,16687.438036897518]\n"
     ]
    }
   ],
   "source": [
    "\n",
    "# 17. ADVANCED: Saving and Loading Models\n",
    "print(\"\\nSaving and Loading Models\")\n",
    "model_path = \"demo_lr_model\"\n",
    "lr_model.write().overwrite().save(model_path)\n",
    "loaded_lr_model = LinearRegressionModel.load(model_path)\n",
    "print(\"Loaded model coefficients:\", loaded_lr_model.coefficients)\n"
   ]
  },
  {
   "cell_type": "code",
   "execution_count": 19,
   "metadata": {},
   "outputs": [
    {
     "name": "stdout",
     "output_type": "stream",
     "text": [
      "\n",
      "RDD Broadcast and Accumulator Example\n",
      "RDD map with broadcast result: [11, 12, 13, 14, 15]\n",
      "Accumulator value: 15\n"
     ]
    }
   ],
   "source": [
    "# 18. ADVANCED: RDD Broadcast and Accumulator\n",
    "print(\"\\nRDD Broadcast and Accumulator Example\")\n",
    "rdd = spark.sparkContext.parallelize([1, 2, 3, 4, 5])\n",
    "broadcast_var = spark.sparkContext.broadcast(10)\n",
    "accum = spark.sparkContext.accumulator(0)\n",
    "def add_broadcast(x):\n",
    "    global accum\n",
    "    accum += x\n",
    "    return x + broadcast_var.value\n",
    "rdd_result = rdd.map(add_broadcast).collect()\n",
    "print(\"RDD map with broadcast result:\", rdd_result)\n",
    "print(\"Accumulator value:\", accum.value)"
   ]
  },
  {
   "cell_type": "code",
   "execution_count": 20,
   "metadata": {},
   "outputs": [
    {
     "name": "stdout",
     "output_type": "stream",
     "text": [
      "\n",
      "Time Series: Lag, Lead, and Rolling Window\n",
      "+----------+-----+-----+------+------------------+\n",
      "|      date|value|lag_1|lead_1|     rolling_avg_3|\n",
      "+----------+-----+-----+------+------------------+\n",
      "|2024-07-01|  100| NULL|   110|             100.0|\n",
      "|2024-07-02|  110|  100|   105|             105.0|\n",
      "|2024-07-03|  105|  110|   120|             105.0|\n",
      "|2024-07-04|  120|  105|   115|111.66666666666667|\n",
      "|2024-07-05|  115|  120|  NULL|113.33333333333333|\n",
      "+----------+-----+-----+------+------------------+\n",
      "\n"
     ]
    }
   ],
   "source": [
    "# 20. SPECIALIZED: Time Series - Lag, Lead, and Rolling Window\n",
    "print(\"\\nTime Series: Lag, Lead, and Rolling Window\")\n",
    "ts_data = [\n",
    "    (\"2024-07-01\", 100),\n",
    "    (\"2024-07-02\", 110),\n",
    "    (\"2024-07-03\", 105),\n",
    "    (\"2024-07-04\", 120),\n",
    "    (\"2024-07-05\", 115)\n",
    "]\n",
    "df_ts = spark.createDataFrame(ts_data, [\"date\", \"value\"])\n",
    "window_spec = Window.orderBy(\"date\")\n",
    "df_ts = df_ts.withColumn(\"lag_1\", F.lag(\"value\", 1).over(window_spec))\n",
    "df_ts = df_ts.withColumn(\"lead_1\", F.lead(\"value\", 1).over(window_spec))\n",
    "df_ts = df_ts.withColumn(\"rolling_avg_3\", F.avg(\"value\").over(window_spec.rowsBetween(-2, 0)))\n",
    "df_ts.show()"
   ]
  },
  {
   "cell_type": "code",
   "execution_count": 21,
   "metadata": {},
   "outputs": [
    {
     "name": "stdout",
     "output_type": "stream",
     "text": [
      "\n",
      "Text Processing: Tokenization and TF-IDF\n"
     ]
    },
    {
     "name": "stderr",
     "output_type": "stream",
     "text": [
      "                                                                                "
     ]
    },
    {
     "name": "stdout",
     "output_type": "stream",
     "text": [
      "+---+---------------------------------------------------------------------------------------------------------------------------+\n",
      "|id |features                                                                                                                   |\n",
      "+---+---------------------------------------------------------------------------------------------------------------------------+\n",
      "|0  |(20,[4,6,8,9,10,15],[0.6931471805599453,0.5753641449035617,0.0,0.6931471805599453,0.28768207245178085,0.28768207245178085])|\n",
      "|1  |(20,[8,10,15,18],[0.0,0.5753641449035617,0.28768207245178085,0.6931471805599453])                                          |\n",
      "|2  |(20,[1,3,5,6,8,11],[0.6931471805599453,0.6931471805599453,0.6931471805599453,0.28768207245178085,0.0,0.6931471805599453])  |\n",
      "+---+---------------------------------------------------------------------------------------------------------------------------+\n",
      "\n"
     ]
    }
   ],
   "source": [
    "# 21. SPECIALIZED: Text Processing - Tokenization and TF-IDF\n",
    "print(\"\\nText Processing: Tokenization and TF-IDF\")\n",
    "text_data = [\n",
    "    (0, \"Spark is great for big data processing\"),\n",
    "    (1, \"Big data requires scalable solutions\"),\n",
    "    (2, \"Spark and Hadoop are popular tools\")\n",
    "]\n",
    "df_text = spark.createDataFrame(text_data, [\"id\", \"text\"])\n",
    "tokenizer = Tokenizer(inputCol=\"text\", outputCol=\"words\")\n",
    "words_data = tokenizer.transform(df_text)\n",
    "hashing_tf = HashingTF(inputCol=\"words\", outputCol=\"rawFeatures\", numFeatures=20)\n",
    "featurized_data = hashing_tf.transform(words_data)\n",
    "idf = IDF(inputCol=\"rawFeatures\", outputCol=\"features\")\n",
    "idf_model = idf.fit(featurized_data)\n",
    "rescaled_data = idf_model.transform(featurized_data)\n",
    "rescaled_data.select(\"id\", \"features\").show(truncate=False)"
   ]
  },
  {
   "cell_type": "code",
   "execution_count": 22,
   "metadata": {},
   "outputs": [],
   "source": [
    "# # 22. SPECIALIZED: Graph Analytics - PageRank with GraphFrames\n",
    "# print(\"\\nGraph Analytics: PageRank with GraphFrames\")\n",
    "# print(\"NOTE: Requires 'graphframes' package. Install with: pip install graphframes\")\n",
    "# try:\n",
    "#     from graphframes import GraphFrame\n",
    "#     vertices = spark.createDataFrame([\n",
    "#         (\"a\", \"Alice\"), (\"b\", \"Bob\"), (\"c\", \"Charlie\")\n",
    "#     ], [\"id\", \"name\"])\n",
    "#     edges = spark.createDataFrame([\n",
    "#         (\"a\", \"b\"), (\"b\", \"c\"), (\"c\", \"a\")\n",
    "#     ], [\"src\", \"dst\"])\n",
    "#     g = GraphFrame(vertices, edges)\n",
    "#     results = g.pageRank(resetProbability=0.15, maxIter=10)\n",
    "#     results.vertices.select(\"id\", \"pagerank\").show()\n",
    "# except ImportError:\n",
    "#     print(\"GraphFrames not installed. Skipping this section.\")\n"
   ]
  },
  {
   "cell_type": "code",
   "execution_count": 23,
   "metadata": {},
   "outputs": [
    {
     "name": "stdout",
     "output_type": "stream",
     "text": [
      "\n",
      "Integration with Pandas\n",
      "+---+---+\n",
      "|  x|  y|\n",
      "+---+---+\n",
      "|  1|  4|\n",
      "|  2|  5|\n",
      "|  3|  6|\n",
      "+---+---+\n",
      "\n",
      "   x  y\n",
      "0  1  4\n",
      "1  2  5\n",
      "2  3  6\n"
     ]
    }
   ],
   "source": [
    "# 23. SPECIALIZED: Integration with Pandas\n",
    "import pandas as pd\n",
    "print(\"\\nIntegration with Pandas\")\n",
    "pdf = pd.DataFrame({\"x\": [1, 2, 3], \"y\": [4, 5, 6]})\n",
    "df_from_pandas = spark.createDataFrame(pdf)\n",
    "df_from_pandas.show()\n",
    "# Convert Spark DataFrame to Pandas\n",
    "pandas_df = df_from_pandas.toPandas()\n",
    "print(pandas_df)"
   ]
  },
  {
   "cell_type": "code",
   "execution_count": 24,
   "metadata": {},
   "outputs": [
    {
     "name": "stdout",
     "output_type": "stream",
     "text": [
      "\n",
      "Read from SQL Database (JDBC Example)\n",
      "NOTE: For SQLite, download the JDBC driver from https://github.com/xerial/sqlite-jdbc/releases and add it to Spark with --jars or PYSPARK_SUBMIT_ARGS.\n",
      "Example:\n",
      "  spark-submit --jars /path/to/sqlite-jdbc-3.45.1.0.jar ...\n",
      "  OR set PYSPARK_SUBMIT_ARGS=\"--jars /path/to/sqlite-jdbc-3.45.1.0.jar pyspark-shell\"\n",
      "Uncomment and configure the code above to use JDBC with your database. For other databases, use the appropriate JDBC URL and driver.\n"
     ]
    }
   ],
   "source": [
    "# # 24. SPECIALIZED: External Data Source - Read from SQL Database (JDBC Example)\n",
    "# print(\"\\nRead from SQL Database (JDBC Example)\")\n",
    "# print(\"NOTE: For SQLite, download the JDBC driver from https://github.com/xerial/sqlite-jdbc/releases and add it to Spark with --jars or PYSPARK_SUBMIT_ARGS.\")\n",
    "# print(\"Example:\")\n",
    "# print(\"  spark-submit --jars /path/to/sqlite-jdbc-3.45.1.0.jar ...\")\n",
    "# print(\"  OR set PYSPARK_SUBMIT_ARGS=\\\"--jars /path/to/sqlite-jdbc-3.45.1.0.jar pyspark-shell\\\"\")\n",
    "# jdbc_url = \"jdbc:sqlite:/path/to/your/database.db\"\n",
    "# properties = {\"driver\": \"org.sqlite.JDBC\"}\n",
    "# # Example usage (uncomment and configure):\n",
    "# # df_sql = spark.read.jdbc(jdbc_url, \"your_table\", properties=properties)\n",
    "# # df_sql.show()\n",
    "# print(\"Uncomment and configure the code above to use JDBC with your database. For other databases, use the appropriate JDBC URL and driver.\")\n"
   ]
  },
  {
   "cell_type": "code",
   "execution_count": 37,
   "metadata": {},
   "outputs": [],
   "source": [
    "# # 25. PURE PYTHON GEOSPATIAL: Sedona Geometry Objects\n",
    "# print(\"\\nPure Python Geospatial: Sedona Geometry Objects\")\n",
    "# try:\n",
    "#     from sedona.core.geom.envelope import Envelope\n",
    "#     from sedona.core.geom.point import Point\n",
    "#     from shapely import wkt\n",
    "#     # Create points\n",
    "#     p1 = Point(1, 1)\n",
    "#     p2 = Point(2, 2)\n",
    "#     # Envelope (bounding box)\n",
    "#     env = Envelope(0, 3, 0, 3)\n",
    "#     print(\"Envelope contains p1:\", env.contains(p1))\n",
    "#     print(\"Envelope contains p2:\", env.contains(p2))\n",
    "#     # Buffer\n",
    "#     buffered = p1.buffer(1.0)\n",
    "#     print(\"Buffered geometry:\", buffered)\n",
    "# except ImportError:\n",
    "#     print(\"Sedona not installed or only PyPI version available. Skipping JVM-dependent geospatial features.\")"
   ]
  },
  {
   "cell_type": "code",
   "execution_count": 26,
   "metadata": {},
   "outputs": [
    {
     "name": "stdout",
     "output_type": "stream",
     "text": [
      "\n",
      "PySpark: Create DataFrame from Python Geometries (WKT)\n",
      "+---+----------+\n",
      "| id|       wkt|\n",
      "+---+----------+\n",
      "|  1|POINT(1 1)|\n",
      "|  2|POINT(2 2)|\n",
      "|  3|POINT(3 3)|\n",
      "+---+----------+\n",
      "\n"
     ]
    }
   ],
   "source": [
    "# 26. PYSPARK: Create DataFrame from Python Geometries (WKT)\n",
    "print(\"\\nPySpark: Create DataFrame from Python Geometries (WKT)\")\n",
    "from pyspark.sql import Row\n",
    "# Example: create a DataFrame from WKT strings\n",
    "wkt_points = [\"POINT(1 1)\", \"POINT(2 2)\", \"POINT(3 3)\"]\n",
    "df_wkt = spark.createDataFrame([Row(id=i, wkt=w) for i, w in enumerate(wkt_points, 1)])\n",
    "df_wkt.show()\n"
   ]
  },
  {
   "cell_type": "code",
   "execution_count": 27,
   "metadata": {},
   "outputs": [
    {
     "name": "stdout",
     "output_type": "stream",
     "text": [
      "\n",
      "Advanced UDFs: Standard PySpark UDFs and Scala/Java UDFs\n",
      "+---+-------+\n",
      "|num|doubled|\n",
      "+---+-------+\n",
      "|  1|      2|\n",
      "|  2|      4|\n",
      "|  3|      6|\n",
      "+---+-------+\n",
      "\n",
      "\n",
      "Note: You can also register UDFs written in Scala/Java and use them from PySpark. See Spark docs for details.\n"
     ]
    }
   ],
   "source": [
    "# 27. ADVANCED UDFs: Standard PySpark UDFs and Scala/Java UDF mention\n",
    "print(\"\\nAdvanced UDFs: Standard PySpark UDFs and Scala/Java UDFs\")\n",
    "from pyspark.sql.functions import udf\n",
    "from pyspark.sql.types import IntegerType\n",
    "\n",
    "def multiply_by_two(x):\n",
    "    return x * 2\n",
    "\n",
    "multiply_by_two_udf = udf(multiply_by_two, IntegerType())\n",
    "df_udf = spark.createDataFrame([(1,), (2,), (3,)], [\"num\"])\n",
    "df_udf = df_udf.withColumn(\"doubled\", multiply_by_two_udf(df_udf.num))\n",
    "df_udf.show()\n",
    "\n",
    "print(\"\\nNote: You can also register UDFs written in Scala/Java and use them from PySpark. See Spark docs for details.\")\n",
    "\n",
    "\n"
   ]
  },
  {
   "cell_type": "code",
   "execution_count": 28,
   "metadata": {},
   "outputs": [
    {
     "name": "stdout",
     "output_type": "stream",
     "text": [
      "\n",
      "Geospatial Joins: Points within Polygons (Apache Sedona)\n",
      "NOTE: Requires 'apache-sedona' and Sedona Spark JARs. Install with: pip install apache-sedona\n",
      "Sedona not installed. Skipping geospatial join section.\n"
     ]
    }
   ],
   "source": [
    "# # 28. GEOSPATIAL JOINS: Points within Polygons (Apache Sedona)\n",
    "# print(\"\\nGeospatial Joins: Points within Polygons (Apache Sedona)\")\n",
    "# print(\"NOTE: Requires 'apache-sedona' and Sedona Spark JARs. Install with: pip install apache-sedona\")\n",
    "# try:\n",
    "#     from sedona.register import SedonaRegistrator\n",
    "#     from sedona.sql import functions as S\n",
    "#     SedonaRegistrator.registerAll(spark)\n",
    "#     # Points DataFrame\n",
    "#     points_data = [(1, \"POINT(1 1)\"), (2, \"POINT(2 2)\"), (3, \"POINT(3 3)\"), (4, \"POINT(5 5)\")]\n",
    "#     df_points = spark.createDataFrame(points_data, [\"pid\", \"wkt_point\"])\n",
    "#     df_points = df_points.withColumn(\"geom_point\", S.ST_GeomFromWKT(df_points.wkt_point))\n",
    "#     # Polygons DataFrame\n",
    "#     polygons_data = [\n",
    "#         (10, \"POLYGON((0 0, 0 4, 4 4, 4 0, 0 0))\"),\n",
    "#         (20, \"POLYGON((4 4, 4 6, 6 6, 6 4, 4 4))\")\n",
    "#     ]\n",
    "#     df_polygons = spark.createDataFrame(polygons_data, [\"gid\", \"wkt_poly\"])\n",
    "#     df_polygons = df_polygons.withColumn(\"geom_poly\", S.ST_GeomFromWKT(df_polygons.wkt_poly))\n",
    "#     # Geospatial join: which points are in which polygons?\n",
    "#     joined = df_points.join(df_polygons, S.ST_Contains(df_polygons.geom_poly, df_points.geom_point))\n",
    "#     print(\"Points within polygons:\")\n",
    "#     joined.select(\"pid\", \"wkt_point\", \"gid\", \"wkt_poly\").show()\n",
    "# except ImportError:\n",
    "#     print(\"Sedona not installed. Skipping geospatial join section.\")"
   ]
  },
  {
   "cell_type": "code",
   "execution_count": 29,
   "metadata": {},
   "outputs": [
    {
     "name": "stdout",
     "output_type": "stream",
     "text": [
      "\n",
      "Geospatial: Distance Joins (Apache Sedona)\n",
      "NOTE: Requires 'apache-sedona' and Sedona Spark JARs. Install with: pip install apache-sedona\n",
      "Sedona not installed. Skipping distance join section.\n"
     ]
    }
   ],
   "source": [
    "\n",
    "# # 29. GEOSPATIAL: Distance Joins (Apache Sedona)\n",
    "# print(\"\\nGeospatial: Distance Joins (Apache Sedona)\")\n",
    "# print(\"NOTE: Requires 'apache-sedona' and Sedona Spark JARs. Install with: pip install apache-sedona\")\n",
    "# try:\n",
    "#     from sedona.register import SedonaRegistrator\n",
    "#     from sedona.sql import functions as S\n",
    "#     SedonaRegistrator.registerAll(spark)\n",
    "#     # Points DataFrame\n",
    "#     points_data = [(1, \"POINT(1 1)\"), (2, \"POINT(2 2)\"), (3, \"POINT(3 3)\"), (4, \"POINT(5 5)\")]\n",
    "#     df_points = spark.createDataFrame(points_data, [\"pid\", \"wkt_point\"])\n",
    "#     df_points = df_points.withColumn(\"geom_point\", S.ST_GeomFromWKT(df_points.wkt_point))\n",
    "#     # Centers DataFrame\n",
    "#     centers_data = [(100, \"POINT(2 2)\"), (200, \"POINT(5 5)\")]\n",
    "#     df_centers = spark.createDataFrame(centers_data, [\"cid\", \"wkt_center\"])\n",
    "#     df_centers = df_centers.withColumn(\"geom_center\", S.ST_GeomFromWKT(df_centers.wkt_center))\n",
    "#     # Distance join: points within distance 2.5 of centers\n",
    "#     joined_dist = df_points.crossJoin(df_centers).where(S.ST_Distance(df_points.geom_point, df_centers.geom_center) <= 2.5)\n",
    "#     print(\"Points within distance 2.5 of centers:\")\n",
    "#     joined_dist.select(\"pid\", \"wkt_point\", \"cid\", \"wkt_center\").show()\n",
    "# except ImportError:\n",
    "#     print(\"Sedona not installed. Skipping distance join section.\")"
   ]
  },
  {
   "cell_type": "code",
   "execution_count": 30,
   "metadata": {},
   "outputs": [
    {
     "name": "stdout",
     "output_type": "stream",
     "text": [
      "\n",
      "Geospatial: Spatial Indexing (Apache Sedona)\n",
      "NOTE: Requires 'apache-sedona' and Sedona Spark JARs. Install with: pip install apache-sedona\n",
      "Sedona not installed. Skipping spatial indexing section.\n"
     ]
    }
   ],
   "source": [
    "# # 30. GEOSPATIAL: Spatial Indexing (Apache Sedona)\n",
    "# print(\"\\nGeospatial: Spatial Indexing (Apache Sedona)\")\n",
    "# print(\"NOTE: Requires 'apache-sedona' and Sedona Spark JARs. Install with: pip install apache-sedona\")\n",
    "# try:\n",
    "#     from sedona.register import SedonaRegistrator\n",
    "#     from sedona.sql import functions as S\n",
    "#     SedonaRegistrator.registerAll(spark)\n",
    "#     # Points DataFrame\n",
    "#     points_data = [(1, \"POINT(1 1)\"), (2, \"POINT(2 2)\"), (3, \"POINT(3 3)\"), (4, \"POINT(5 5)\")]\n",
    "#     df_points = spark.createDataFrame(points_data, [\"pid\", \"wkt_point\"])\n",
    "#     df_points = df_points.withColumn(\"geom_point\", S.ST_GeomFromWKT(df_points.wkt_point))\n",
    "#     # Build spatial index (R-Tree) on points\n",
    "#     df_points.createOrReplaceTempView(\"points_indexed\")\n",
    "#     spark.sql(\"CACHE TABLE points_indexed\")\n",
    "#     print(\"Spatial index created and table cached.\")\n",
    "#     # Query using index (e.g., bounding box)\n",
    "#     bbox = \"POLYGON((0 0, 0 3, 3 3, 3 0, 0 0))\"\n",
    "#     result = spark.sql(f\"\"\"\n",
    "#         SELECT * FROM points_indexed\n",
    "#         WHERE ST_Contains(ST_GeomFromText('{bbox}'), geom_point)\n",
    "#     \"\"\")\n",
    "#     print(\"Points within bounding box:\")\n",
    "#     result.show()\n",
    "# except ImportError:\n",
    "#     print(\"Sedona not installed. Skipping spatial indexing section.\")\n"
   ]
  },
  {
   "cell_type": "code",
   "execution_count": 31,
   "metadata": {},
   "outputs": [
    {
     "name": "stdout",
     "output_type": "stream",
     "text": [
      "\n",
      "Geospatial Visualization (matplotlib, geopandas)\n",
      "NOTE: Requires 'geopandas' and 'matplotlib'. Install with: pip install geopandas matplotlib\n"
     ]
    },
    {
     "data": {
      "image/png": "[encoded data removed]",
      "text/plain": [
       "<Figure size 640x480 with 1 Axes>"
      ]
     },
     "metadata": {},
     "output_type": "display_data"
    }
   ],
   "source": [
    "# 31. GEOSPATIAL: Visualization (matplotlib, geopandas)\n",
    "print(\"\\nGeospatial Visualization (matplotlib, geopandas)\")\n",
    "print(\"NOTE: Requires 'geopandas' and 'matplotlib'. Install with: pip install geopandas matplotlib\")\n",
    "try:\n",
    "    import geopandas as gpd\n",
    "    import matplotlib.pyplot as plt\n",
    "    from shapely import wkt\n",
    "    # Use points and polygons from previous examples\n",
    "    points_data = [(1, \"POINT(1 1)\"), (2, \"POINT(2 2)\"), (3, \"POINT(3 3)\"), (4, \"POINT(5 5)\")]\n",
    "    polygons_data = [\n",
    "        (10, \"POLYGON((0 0, 0 4, 4 4, 4 0, 0 0))\"),\n",
    "        (20, \"POLYGON((4 4, 4 6, 6 6, 6 4, 4 4))\")\n",
    "    ]\n",
    "    gdf_points = gpd.GeoDataFrame(\n",
    "        [(pid, wkt.loads(wkt_point)) for pid, wkt_point in points_data],\n",
    "        columns=[\"pid\", \"geometry\"]\n",
    "    )\n",
    "    gdf_polygons = gpd.GeoDataFrame(\n",
    "        [(gid, wkt.loads(wkt_poly)) for gid, wkt_poly in polygons_data],\n",
    "        columns=[\"gid\", \"geometry\"]\n",
    "    )\n",
    "    ax = gdf_polygons.plot(facecolor='none', edgecolor='blue', linewidth=2)\n",
    "    gdf_points.plot(ax=ax, color='red', markersize=50)\n",
    "    plt.title(\"Points and Polygons Visualization\")\n",
    "    plt.xlabel(\"Longitude\")\n",
    "    plt.ylabel(\"Latitude\")\n",
    "    plt.show()\n",
    "except ImportError:\n",
    "    print(\"geopandas or matplotlib not installed. Skipping visualization section.\")\n"
   ]
  },
  {
   "cell_type": "code",
   "execution_count": 32,
   "metadata": {},
   "outputs": [
    {
     "name": "stdout",
     "output_type": "stream",
     "text": [
      "\n",
      "Geospatial Aggregations: Count Points per Polygon (Apache Sedona)\n",
      "NOTE: Requires 'apache-sedona' and Sedona Spark JARs. Install with: pip install apache-sedona\n",
      "Sedona not installed. Skipping geospatial aggregation section.\n"
     ]
    }
   ],
   "source": [
    "# # 32. GEOSPATIAL: Aggregations (Count Points per Polygon)\n",
    "# print(\"\\nGeospatial Aggregations: Count Points per Polygon (Apache Sedona)\")\n",
    "# print(\"NOTE: Requires 'apache-sedona' and Sedona Spark JARs. Install with: pip install apache-sedona\")\n",
    "# try:\n",
    "#     from sedona.register import SedonaRegistrator\n",
    "#     from sedona.sql import functions as S\n",
    "#     SedonaRegistrator.registerAll(spark)\n",
    "#     # Points DataFrame\n",
    "#     points_data = [(1, \"POINT(1 1)\"), (2, \"POINT(2 2)\"), (3, \"POINT(3 3)\"), (4, \"POINT(5 5)\")]\n",
    "#     df_points = spark.createDataFrame(points_data, [\"pid\", \"wkt_point\"])\n",
    "#     df_points = df_points.withColumn(\"geom_point\", S.ST_GeomFromWKT(df_points.wkt_point))\n",
    "#     # Polygons DataFrame\n",
    "#     polygons_data = [\n",
    "#         (10, \"POLYGON((0 0, 0 4, 4 4, 4 0, 0 0))\"),\n",
    "#         (20, \"POLYGON((4 4, 4 6, 6 6, 6 4, 4 4))\")\n",
    "#     ]\n",
    "#     df_polygons = spark.createDataFrame(polygons_data, [\"gid\", \"wkt_poly\"])\n",
    "#     df_polygons = df_polygons.withColumn(\"geom_poly\", S.ST_GeomFromWKT(df_polygons.wkt_poly))\n",
    "#     # Join and aggregate: count points per polygon\n",
    "#     joined = df_points.join(df_polygons, S.ST_Contains(df_polygons.geom_poly, df_points.geom_point), how=\"inner\")\n",
    "#     agg = joined.groupBy(\"gid\").count()\n",
    "#     print(\"Count of points per polygon:\")\n",
    "#     agg.show()\n",
    "# except ImportError:\n",
    "#     print(\"Sedona not installed. Skipping geospatial aggregation section.\")"
   ]
  },
  {
   "cell_type": "code",
   "execution_count": 33,
   "metadata": {},
   "outputs": [
    {
     "name": "stdout",
     "output_type": "stream",
     "text": [
      "\n",
      "Geospatial Heatmap Visualization (matplotlib, geopandas)\n",
      "NOTE: Requires 'geopandas' and 'matplotlib'. Install with: pip install geopandas matplotlib\n"
     ]
    },
    {
     "data": {
      "image/png": "[encoded data removed]",
      "text/plain": [
       "<Figure size 640x480 with 2 Axes>"
      ]
     },
     "metadata": {},
     "output_type": "display_data"
    }
   ],
   "source": [
    "# # 33. GEOSPATIAL: Heatmap Visualization (matplotlib, geopandas)\n",
    "# print(\"\\nGeospatial Heatmap Visualization (matplotlib, geopandas)\")\n",
    "# print(\"NOTE: Requires 'geopandas' and 'matplotlib'. Install with: pip install geopandas matplotlib\")\n",
    "# try:\n",
    "#     import geopandas as gpd\n",
    "#     import matplotlib.pyplot as plt\n",
    "#     from shapely import wkt\n",
    "#     import numpy as np\n",
    "#     # Use points from previous examples\n",
    "#     points_data = [(1, \"POINT(1 1)\"), (2, \"POINT(2 2)\"), (3, \"POINT(3 3)\"), (4, \"POINT(5 5)\"), (5, \"POINT(2.5 2.5)\")]\n",
    "#     gdf_points = gpd.GeoDataFrame(\n",
    "#         [(pid, wkt.loads(wkt_point)) for pid, wkt_point in points_data],\n",
    "#         columns=[\"pid\", \"geometry\"]\n",
    "#     )\n",
    "#     # Create a 2D histogram (heatmap) of point density\n",
    "#     x = gdf_points.geometry.x\n",
    "#     y = gdf_points.geometry.y\n",
    "#     heatmap, xedges, yedges = np.histogram2d(x, y, bins=(10, 10), range=[[0, 6], [0, 6]])\n",
    "#     extent = [xedges[0], xedges[-1], yedges[0], yedges[-1]]\n",
    "#     plt.clf()\n",
    "#     plt.imshow(heatmap.T, extent=extent, origin='lower', cmap='hot', alpha=0.6)\n",
    "#     plt.colorbar(label='Point Density')\n",
    "#     gdf_points.plot(ax=plt.gca(), color='blue', markersize=40, alpha=0.7)\n",
    "#     plt.title(\"Geospatial Heatmap of Point Density\")\n",
    "#     plt.xlabel(\"Longitude\")\n",
    "#     plt.ylabel(\"Latitude\")\n",
    "#     plt.show()\n",
    "# except ImportError:\n",
    "#     print(\"geopandas, matplotlib, or numpy not installed. Skipping heatmap section.\")"
   ]
  },
  {
   "cell_type": "code",
   "execution_count": 34,
   "metadata": {},
   "outputs": [
    {
     "name": "stdout",
     "output_type": "stream",
     "text": [
      "\n",
      "Integration: Read GraphX PageRank Output from Scala (Parquet)\n",
      "NOTE: This requires running the Scala GraphX job to produce 'graphx_pagerank_output' first.\n",
      "Could not read GraphX output. Make sure the Scala job has run and output exists.\n",
      "[PATH_NOT_FOUND] Path does not exist: file:/Users/admin/work_database_cleanup/graphx_pagerank_output.\n"
     ]
    }
   ],
   "source": [
    "\n",
    "# # 34. INTEGRATION: Read GraphX PageRank Output from Scala\n",
    "# print(\"\\nIntegration: Read GraphX PageRank Output from Scala (Parquet)\")\n",
    "# print(\"NOTE: This requires running the Scala GraphX job to produce 'graphx_pagerank_output' first.\")\n",
    "# try:\n",
    "#     df_graphx = spark.read.parquet(\"graphx_pagerank_output\")\n",
    "#     df_graphx.show()\n",
    "# except Exception as e:\n",
    "#     print(\"Could not read GraphX output. Make sure the Scala job has run and output exists.\")\n",
    "#     print(e)"
   ]
  },
  {
   "cell_type": "code",
   "execution_count": 35,
   "metadata": {},
   "outputs": [
    {
     "name": "stdout",
     "output_type": "stream",
     "text": [
      "\n",
      "Spark session stopped.\n"
     ]
    }
   ],
   "source": [
    "# 19. Clean up\n",
    "spark.stop()\n",
    "print(\"\\nSpark session stopped.\")\n",
    "\n",
    "# Clean up files\n",
    "try:\n",
    "    import shutil\n",
    "    shutil.rmtree(csv_path)\n",
    "    shutil.rmtree(json_path)\n",
    "    shutil.rmtree(parquet_path)\n",
    "    shutil.rmtree(model_path)\n",
    "except Exception:\n",
    "    pass"
   ]
  }
 ],
 "metadata": {
  "kernelspec": {
   "display_name": "Spark (PySpark 3.5.2)",
   "language": "python",
   "name": "spark_env"
  },
  "language_info": {
   "codemirror_mode": {
    "name": "ipython",
    "version": 3
   },
   "file_extension": ".py",
   "mimetype": "text/x-python",
   "name": "python",
   "nbconvert_exporter": "python",
   "pygments_lexer": "ipython3",
   "version": "3.11.13"
  }
 },
 "nbformat": 4,
 "nbformat_minor": 4
}
